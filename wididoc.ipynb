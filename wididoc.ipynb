{
 "cells": [
  {
   "cell_type": "code",
   "execution_count": null,
   "id": "69a5c932",
   "metadata": {},
   "outputs": [],
   "source": [
    "# 3-01. Language Model\n",
    "# NOTE : What can we do using Language Model?\n",
    "# NOTE : Why infer next word?"
   ]
  },
  {
   "cell_type": "code",
   "execution_count": 4,
   "id": "8db6c9ee",
   "metadata": {},
   "outputs": [],
   "source": [
    "# 3.02. SLM"
   ]
  },
  {
   "cell_type": "code",
   "execution_count": null,
   "id": "f9ebfd14",
   "metadata": {},
   "outputs": [
    {
     "data": {
      "text/plain": [
       "'\\none-line summary : Considering certain count of N words to expect next word more accuratly.\\nconnection or question : if \\n'"
      ]
     },
     "execution_count": 5,
     "metadata": {},
     "output_type": "execute_result"
    }
   ],
   "source": [
    "# 3.03. N-gram Language Model\n",
    "\"\"\"\n",
    "one-line summary : Considering certain count of N words to expect next word more accuratly.\n",
    "connection or question : I can extract better 10 social dimensions from text. if precedure word from the word representing 10 social dimensions\n",
    "\"\"\""
   ]
  },
  {
   "cell_type": "code",
   "execution_count": null,
   "id": "e6d16fa8",
   "metadata": {},
   "outputs": [],
   "source": []
  }
 ],
 "metadata": {
  "kernelspec": {
   "display_name": "venv",
   "language": "python",
   "name": "python3"
  },
  "language_info": {
   "codemirror_mode": {
    "name": "ipython",
    "version": 3
   },
   "file_extension": ".py",
   "mimetype": "text/x-python",
   "name": "python",
   "nbconvert_exporter": "python",
   "pygments_lexer": "ipython3",
   "version": "3.10.11"
  }
 },
 "nbformat": 4,
 "nbformat_minor": 5
}
